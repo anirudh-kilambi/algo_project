{
  "cells": [
    {
      "cell_type": "markdown",
      "metadata": {
        "id": "9QD-0wwzjxSe"
      },
      "source": [
        "# Quantitative Value Strategy\n",
        "\"Value investing\" means investing in the stocks that are cheapest relative to common measures of business value (like earnings or assets).\n",
        "\n",
        "For this project, we're going to build an investing strategy that selects the 50 stocks with the best value metrics. From there, we will calculate recommended trades for an equal-weight portfolio of these 50 stocks.\n",
        "\n",
        "## Library Imports\n",
        "The first thing we need to do is import the open-source software libraries that we'll be using in this tutorial."
      ]
    },
    {
      "cell_type": "code",
      "execution_count": 33,
      "metadata": {
        "id": "lgeRleQ_jxSj"
      },
      "outputs": [],
      "source": [
        "import numpy as np \n",
        "import pandas as pd \n",
        "import math \n",
        "import requests\n",
        "from scipy import stats"
      ]
    },
    {
      "cell_type": "markdown",
      "metadata": {
        "id": "abDBY87ZjxSl"
      },
      "source": [
        "## Importing Our List of Stocks & API Token\n",
        "As before, we'll need to import our list of stocks and our API token before proceeding. Make sure the .csv file is still in your working directory and import it with the following command:"
      ]
    },
    {
      "cell_type": "code",
      "execution_count": 48,
      "metadata": {
        "id": "rS-MS2-kjxSl"
      },
      "outputs": [
        {
          "name": "stdout",
          "output_type": "stream",
          "text": [
            "    Symbol\n",
            "0      MMM\n",
            "1      AOS\n",
            "2      ABT\n",
            "3     ABBV\n",
            "4     ABMD\n",
            "..     ...\n",
            "500    YUM\n",
            "501   ZBRA\n",
            "502    ZBH\n",
            "503   ZION\n",
            "504    ZTS\n",
            "\n",
            "[505 rows x 1 columns]\n"
          ]
        }
      ],
      "source": [
        "#grabbing list of S&P 500 Companies \n",
        "table=pd.read_html('https://en.wikipedia.org/wiki/List_of_S%26P_500_companies')\n",
        "df = table[0]\n",
        "\n",
        "symbols_list = (df['Symbol'])\n",
        "sectors_list = df['GICS Sector']\n",
        "\n",
        "\n",
        "stocks = symbols_list.to_frame()\n",
        "sectors = sectors_list.to_frame()\n",
        "\n",
        "IEX_CLOUD_API_TOKEN = 'Tpk_059b97af715d417d9f49f50b51b1c448'\n"
      ]
    },
    {
      "cell_type": "code",
      "execution_count": null,
      "metadata": {
        "id": "9q-vYpDYlX7-"
      },
      "outputs": [],
      "source": [
        "#anirudh was here dfdfjdfjdjf"
      ]
    },
    {
      "cell_type": "code",
      "execution_count": null,
      "metadata": {
        "id": "eqjD_F5IjxSm"
      },
      "outputs": [],
      "source": [
        "# can you see this?"
      ]
    },
    {
      "cell_type": "markdown",
      "metadata": {
        "id": "fxssnuwtjxSm"
      },
      "source": [
        "## Making Our First API Call\n",
        "It's now time to make the first version of our value screener!\n",
        "\n",
        "We'll start by building a simple value screener that ranks securities based on a single metric (the price-to-earnings ratio)."
      ]
    },
    {
      "cell_type": "code",
      "execution_count": 35,
      "metadata": {
        "id": "VND_YbQ9jxSn"
      },
      "outputs": [],
      "source": [
        "symbol = 'aapl'\n",
        "api_url = f'https://sandbox.iexapis.com/stable/stock/{symbol}/quote/?token={IEX_CLOUD_API_TOKEN}'\n",
        "data = requests.get(api_url).json()\n"
      ]
    },
    {
      "cell_type": "markdown",
      "metadata": {
        "id": "5ezsBcZtjxSp"
      },
      "source": [
        "## Executing A Batch API Call & Building Our DataFrame\n",
        "\n",
        "Just like in our first project, it's now time to execute several batch API calls and add the information we need to our DataFrame.\n",
        "\n",
        "We'll start by running the following code cell, which contains some code we already built last time that we can re-use for this project. More specifically, it contains a function called chunks that we can use to divide our list of securities into groups of 100."
      ]
    },
    {
      "cell_type": "code",
      "execution_count": 37,
      "metadata": {
        "id": "TcLYK0hdjxSp"
      },
      "outputs": [],
      "source": [
        "# Function sourced from \n",
        "# https://stackoverflow.com/questions/312443/how-do-you-split-a-list-into-evenly-sized-chunks\n",
        "def chunks(lst, n):\n",
        "    \"\"\"Yield successive n-sized chunks from lst.\"\"\"\n",
        "    for i in range(0, len(lst), n):\n",
        "        yield lst[i:i + n]   \n",
        "        \n",
        "symbol_groups = list(chunks(stocks['Symbol'], 100))\n",
        "symbol_strings = []\n",
        "\n",
        "\n",
        "\n",
        "\n",
        "my_columns = ['Symbol', 'Price', 'Price-to-Earnings Ratio', 'Number of Shares to Buy']"
      ]
    },
    {
      "cell_type": "code",
      "execution_count": 38,
      "metadata": {
        "id": "2p1AUm9hjxSq"
      },
      "outputs": [],
      "source": [
        "\n",
        "simple_list = []\n",
        "\n",
        "for symbol_string in symbol_strings: \n",
        "    batch_api_call_url = f'https://sandbox.iexapis.com/stable/stock/market/batch?symbols={symbol_string}&types=quote&token={IEX_CLOUD_API_TOKEN}'\n",
        "    data = requests.get(batch_api_call_url).json()\n",
        "\n",
        "    for symbol in symbol_string.split(','):\n",
        "        if symbol == 'WLTW':\n",
        "            pass\n",
        "        else:\n",
        "            simple_list.append([symbol, data[symbol]['quote']['latestPrice'], data[symbol]['quote']['peRatio'], 'N/A'])\n",
        "\n",
        "\n",
        "\n",
        "final_dataframe = pd.DataFrame(simple_list, columns=my_columns)\n",
        "\n",
        "\n",
        "\n",
        "\n",
        "\n",
        "\n",
        "        "
      ]
    },
    {
      "cell_type": "markdown",
      "metadata": {
        "id": "gcCDLpbbjxSs"
      },
      "source": [
        "## Calculating the Number of Shares to Buy\n",
        "We now need to calculate the number of shares we need to buy. \n",
        "\n",
        "To do this, we will use the `portfolio_input` function that we created in our momentum project.\n",
        "\n",
        "I have included this function below."
      ]
    },
    {
      "cell_type": "code",
      "execution_count": 39,
      "metadata": {
        "id": "DVHCtc02jxSt"
      },
      "outputs": [],
      "source": [
        "def portfolio_input():\n",
        "    global portfolio_size\n",
        "    portfolio_size = input(\"Enter the value of your portfolio:\")\n",
        "\n",
        "    try:\n",
        "        val = float(portfolio_size)\n",
        "    except ValueError:\n",
        "        print(\"That's not a number! \\n Try again:\")\n",
        "        portfolio_size = input(\"Enter the value of your portfolio:\")"
      ]
    },
    {
      "cell_type": "markdown",
      "metadata": {
        "id": "7jV4JD3zjxSt"
      },
      "source": [
        "Use the `portfolio_input` function to accept a `portfolio_size` variable from the user of this script."
      ]
    },
    {
      "cell_type": "markdown",
      "metadata": {
        "id": "6pXYDaoLjxSv"
      },
      "source": [
        "## Building a Better (and More Realistic) Value Strategy\n",
        "Every valuation metric has certain flaws.\n",
        "\n",
        "For example, the price-to-earnings ratio doesn't work well with stocks with negative earnings.\n",
        "\n",
        "Similarly, stocks that buyback their own shares are difficult to value using the price-to-book ratio.\n",
        "\n",
        "Investors typically use a `composite` basket of valuation metrics to build robust quantitative value strategies. In this section, we will filter for stocks with the lowest percentiles on the following metrics:\n",
        "\n",
        "* Price-to-earnings ratio\n",
        "* Price-to-book ratio\n",
        "* Price-to-sales ratio\n",
        "* Enterprise Value divided by Earnings Before Interest, Taxes, Depreciation, and Amortization (EV/EBITDA)\n",
        "* Enterprise Value divided by Gross Profit (EV/GP)\n",
        "\n",
        "Some of these metrics aren't provided directly by the IEX Cloud API, and must be computed after pulling raw data. We'll start by calculating each data point from scratch."
      ]
    },
    {
      "cell_type": "code",
      "execution_count": 40,
      "metadata": {
        "id": "mTN_OnDIjxSv"
      },
      "outputs": [],
      "source": [
        "# my_columns = ['Symbol', 'Price', 'Price-to-Earnings Ratio','Price-to-Book Ratio', 'Price-to-Sales Ratio' ,'Number of Shares to Buy']\n",
        "symbol = 'AAPL'\n",
        "batch_api_call_url = f'https://sandbox.iexapis.com/stable/stock/market/batch?symbols={symbol}&types=quote,advanced-stats&token={IEX_CLOUD_API_TOKEN}'\n",
        "data = requests.get(batch_api_call_url).json()\n",
        "\n",
        "pe_ratio = data[symbol]['quote']['peRatio']\n",
        "pb_ratio = data[symbol]['advanced-stats']['priceToBook']\n",
        "ps_ratio = data[symbol]['advanced-stats']['priceToSales']\n",
        "enterprise_value = data[symbol]['advanced-stats']['enterpriseValue']\n",
        "ebitda = data[symbol]['advanced-stats']['EBITDA']\n",
        "\n",
        "ev_to_ebitda = enterprise_value/ebitda\n",
        "gross_profit = data[symbol]['advanced-stats']['grossProfit']\n",
        "ev_to_gross_profit = enterprise_value/gross_profit\n",
        "\n"
      ]
    },
    {
      "cell_type": "markdown",
      "metadata": {
        "id": "aZDCXxH0jxSv"
      },
      "source": [
        "Let's move on to building our DataFrame. You'll notice that I use the abbreviation `rv` often. It stands for `robust value`, which is what we'll call this sophisticated strategy moving forward."
      ]
    },
    {
      "cell_type": "code",
      "execution_count": 41,
      "metadata": {
        "id": "rs-XzJDojxSw"
      },
      "outputs": [],
      "source": [
        "rv_columns = [\n",
        "    'Symbol',\n",
        "    'Price',\n",
        "    'Number of Shares to Buy',\n",
        "    'PE Ratio',\n",
        "    'PE Percentile',\n",
        "    'PB Ratio',\n",
        "    'PB Percentile',\n",
        "    'PS Ratio',\n",
        "    'PS Percentile',\n",
        "    'EV/EBITDA',\n",
        "    'EV/EBITDA Percentile',\n",
        "    'EV/GP',\n",
        "    'EV/GP Percentile',\n",
        "    'PEG Ratio',\n",
        "    'DE',\n",
        "    'RV Score'\n",
        "]\n"
      ]
    },
    {
      "cell_type": "code",
      "execution_count": 42,
      "metadata": {
        "id": "ef85NT8zjxSw"
      },
      "outputs": [],
      "source": [
        "simple_list = []\n",
        "\n",
        "for symbol_string in symbol_strings: \n",
        "    batch_api_call_url = batch_api_call_url = f'https://sandbox.iexapis.com/stable/stock/market/batch?symbols={symbol_string}&types=quote,advanced-stats&token={IEX_CLOUD_API_TOKEN}'\n",
        "    data = requests.get(batch_api_call_url).json()\n",
        "    for symbol in symbol_string.split(','):\n",
        "        # if symbol == 'WLTW':\n",
        "        #     pass\n",
        "        # else:\n",
        "        enterprise_value = data[symbol]['advanced-stats']['enterpriseValue']\n",
        "        ebitda = data[symbol]['advanced-stats']['EBITDA']\n",
        "        gross_profit = data[symbol]['advanced-stats']['grossProfit']\n",
        "\n",
        "        try:\n",
        "            ev_to_ebitda = enterprise_value/ebitda\n",
        "        \n",
        "        except TypeError:\n",
        "            ev_to_ebitda = np.NaN\n",
        "\n",
        "        ebitda = data[symbol]['advanced-stats']['EBITDA']\n",
        "        \n",
        "        gross_profit = data[symbol]['advanced-stats']['grossProfit']\n",
        "\n",
        "        simple_list.append([symbol, \n",
        "                            data[symbol]['quote']['latestPrice'], \n",
        "                            'N/A', \n",
        "                            data[symbol]['quote']['peRatio'],\n",
        "                            'N/A', \n",
        "                            data[symbol]['advanced-stats']['priceToBook'],\n",
        "                            'N/A',\n",
        "                            data[symbol]['advanced-stats']['priceToSales'],\n",
        "                            'N/A',\n",
        "                            ev_to_ebitda,\n",
        "                            'N/A',\n",
        "                            ev_to_gross_profit,\n",
        "                            'N/A',\n",
        "                            data[symbol]['advanced-stats']['pegRatio'],\n",
        "                            data[symbol]['advanced-stats']['debtToEquity'],\n",
        "                            'N/A'])\n",
        "\n",
        "\n",
        "rv_dataframe = pd.DataFrame(simple_list, columns = rv_columns)"
      ]
    },
    {
      "cell_type": "markdown",
      "metadata": {
        "id": "wXxIotcujxSw"
      },
      "source": [
        "## Dealing With Missing Data in Our DataFrame\n",
        "\n",
        "Our DataFrame contains some missing data because all of the metrics we require are not available through the API we're using. \n",
        "\n",
        "You can use pandas' `isnull` method to identify missing data:"
      ]
    },
    {
      "cell_type": "code",
      "execution_count": 43,
      "metadata": {
        "colab": {
          "base_uri": "https://localhost:8080/",
          "height": 485
        },
        "id": "UXxpT320jxSx",
        "outputId": "383727b4-9643-4f54-b716-2a939086a40f"
      },
      "outputs": [
        {
          "data": {
            "text/html": [
              "<div>\n",
              "<style scoped>\n",
              "    .dataframe tbody tr th:only-of-type {\n",
              "        vertical-align: middle;\n",
              "    }\n",
              "\n",
              "    .dataframe tbody tr th {\n",
              "        vertical-align: top;\n",
              "    }\n",
              "\n",
              "    .dataframe thead th {\n",
              "        text-align: right;\n",
              "    }\n",
              "</style>\n",
              "<table border=\"1\" class=\"dataframe\">\n",
              "  <thead>\n",
              "    <tr style=\"text-align: right;\">\n",
              "      <th></th>\n",
              "      <th>Symbol</th>\n",
              "      <th>Price</th>\n",
              "      <th>Number of Shares to Buy</th>\n",
              "      <th>PE Ratio</th>\n",
              "      <th>PE Percentile</th>\n",
              "      <th>PB Ratio</th>\n",
              "      <th>PB Percentile</th>\n",
              "      <th>PS Ratio</th>\n",
              "      <th>PS Percentile</th>\n",
              "      <th>EV/EBITDA</th>\n",
              "      <th>EV/EBITDA Percentile</th>\n",
              "      <th>EV/GP</th>\n",
              "      <th>EV/GP Percentile</th>\n",
              "      <th>PEG Ratio</th>\n",
              "      <th>DE</th>\n",
              "      <th>RV Score</th>\n",
              "    </tr>\n",
              "  </thead>\n",
              "  <tbody>\n",
              "  </tbody>\n",
              "</table>\n",
              "</div>"
            ],
            "text/plain": [
              "Empty DataFrame\n",
              "Columns: [Symbol, Price, Number of Shares to Buy, PE Ratio, PE Percentile, PB Ratio, PB Percentile, PS Ratio, PS Percentile, EV/EBITDA, EV/EBITDA Percentile, EV/GP, EV/GP Percentile, PEG Ratio, DE, RV Score]\n",
              "Index: []"
            ]
          },
          "execution_count": 43,
          "metadata": {},
          "output_type": "execute_result"
        }
      ],
      "source": [
        "rv_dataframe"
      ]
    },
    {
      "cell_type": "markdown",
      "metadata": {
        "id": "PCCYvjwZjxSy"
      },
      "source": [
        "Dealing with missing data is an important topic in data science.\n",
        "\n",
        "There are two main approaches:\n",
        "\n",
        "* Drop missing data from the data set (pandas' `dropna` method is useful here)\n",
        "* Replace missing data with a new value (pandas' `fillna` method is useful here)\n",
        "\n",
        "In this tutorial, we will replace missing data with the average non-`NaN` data point from that column. \n",
        "\n",
        "Here is the code to do this:"
      ]
    },
    {
      "cell_type": "code",
      "execution_count": null,
      "metadata": {
        "id": "scFTFep7jxSy"
      },
      "outputs": [],
      "source": [
        "# rv_dataframe[rv_dataframe.isnull().any(axis = 1)]"
      ]
    },
    {
      "cell_type": "markdown",
      "metadata": {
        "id": "uMq9il6RjxSy"
      },
      "source": [
        "Now, if we run the statement from earlier to print rows that contain missing data, nothing should be returned:"
      ]
    },
    {
      "cell_type": "code",
      "execution_count": 44,
      "metadata": {
        "id": "03c3isMDjxSz"
      },
      "outputs": [],
      "source": [
        "\n",
        "exclude = []\n",
        "\n",
        "# print(rv_columns[3:12:2])\n",
        "\n",
        "\n",
        "# print(value)\n",
        "for column in rv_columns[3:12:2]:\n",
        "\n",
        "    rv_dataframe[column].fillna(rv_dataframe[column].mean(), inplace= True)\n",
        "\n"
      ]
    },
    {
      "cell_type": "markdown",
      "metadata": {
        "id": "Xfnm7KjljxSz"
      },
      "source": [
        "## Calculating Value Percentiles\n",
        "\n",
        "We now need to calculate value score percentiles for every stock in the universe. More specifically, we need to calculate percentile scores for the following metrics for every stock:\n",
        "\n",
        "* Price-to-earnings ratio\n",
        "* Price-to-book ratio\n",
        "* Price-to-sales ratio\n",
        "* EV/EBITDA\n",
        "* EV/GP\n",
        "\n",
        "Here's how we'll do this:"
      ]
    },
    {
      "cell_type": "code",
      "execution_count": 45,
      "metadata": {
        "id": "kWjFkevgjxSz"
      },
      "outputs": [],
      "source": [
        "metrics = {}\n",
        "\n",
        "for column in rv_dataframe.columns[3:12:2]:\n",
        "    column1 = rv_dataframe.columns.get_loc(column)\n",
        "    metrics.update({column : rv_dataframe.columns[column1 + 1] })\n",
        "\n",
        "for metric in metrics: \n",
        "    for row in rv_dataframe.index:\n",
        "        rv_dataframe.loc[row, metrics[metric]] = stats.percentileofscore(rv_dataframe[metric], rv_dataframe.loc[row, metric])\n",
        "\n"
      ]
    },
    {
      "cell_type": "markdown",
      "metadata": {
        "id": "TC4WNB1yjxSz"
      },
      "source": [
        "## Calculating the RV Score\n",
        "We'll now calculate our RV Score (which stands for Robust Value), which is the value score that we'll use to filter for stocks in this investing strategy.\n",
        "\n",
        "The RV Score will be the arithmetic mean of the 4 percentile scores that we calculated in the last section.\n",
        "\n",
        "To calculate arithmetic mean, we will use the mean function from Python's built-in statistics module."
      ]
    },
    {
      "cell_type": "code",
      "execution_count": 46,
      "metadata": {
        "id": "ejhn9IBUjxS0"
      },
      "outputs": [
        {
          "name": "stdout",
          "output_type": "stream",
          "text": [
            "Empty DataFrame\n",
            "Columns: [Symbol, Price, Number of Shares to Buy, PE Ratio, PE Percentile, PB Ratio, PB Percentile, PS Ratio, PS Percentile, EV/EBITDA, EV/EBITDA Percentile, EV/GP, EV/GP Percentile, PEG Ratio, DE, RV Score]\n",
            "Index: []\n"
          ]
        }
      ],
      "source": [
        "from statistics import mean\n",
        "\n",
        "\n",
        "\n",
        "for row in rv_dataframe.index:\n",
        "    pe = rv_dataframe.loc[row, 'PE Percentile']\n",
        "    pb = rv_dataframe.loc[row, 'PB Percentile']\n",
        "    ps = rv_dataframe.loc[row, 'PS Percentile']\n",
        "    ev_ebitda = rv_dataframe.loc[row, 'EV/EBITDA Percentile']\n",
        "    ev_gp = rv_dataframe.loc[row, 'EV/GP Percentile'] \n",
        "    rv_dataframe.loc[row, 'RV Score'] = mean([pe, pb, ps, ev_ebitda, ev_gp])\n",
        "\n",
        "print(rv_dataframe)\n"
      ]
    },
    {
      "cell_type": "markdown",
      "metadata": {
        "id": "Bw_IaUijjxS0"
      },
      "source": [
        "## Selecting the 50 Best Value Stocks¶\n",
        "\n",
        "As before, we can identify the 50 best value stocks in our universe by sorting the DataFrame on the RV Score column and dropping all but the top 50 entries."
      ]
    },
    {
      "cell_type": "code",
      "execution_count": 47,
      "metadata": {
        "colab": {
          "base_uri": "https://localhost:8080/",
          "height": 1000
        },
        "id": "VGtygAW3jxS1",
        "outputId": "db640c55-99bd-47a7-c8d0-8b58413283ac"
      },
      "outputs": [
        {
          "data": {
            "text/html": [
              "<div>\n",
              "<style scoped>\n",
              "    .dataframe tbody tr th:only-of-type {\n",
              "        vertical-align: middle;\n",
              "    }\n",
              "\n",
              "    .dataframe tbody tr th {\n",
              "        vertical-align: top;\n",
              "    }\n",
              "\n",
              "    .dataframe thead th {\n",
              "        text-align: right;\n",
              "    }\n",
              "</style>\n",
              "<table border=\"1\" class=\"dataframe\">\n",
              "  <thead>\n",
              "    <tr style=\"text-align: right;\">\n",
              "      <th></th>\n",
              "      <th>Symbol</th>\n",
              "      <th>Price</th>\n",
              "      <th>Number of Shares to Buy</th>\n",
              "      <th>PE Ratio</th>\n",
              "      <th>PE Percentile</th>\n",
              "      <th>PB Ratio</th>\n",
              "      <th>PB Percentile</th>\n",
              "      <th>PS Ratio</th>\n",
              "      <th>PS Percentile</th>\n",
              "      <th>EV/EBITDA</th>\n",
              "      <th>EV/EBITDA Percentile</th>\n",
              "      <th>EV/GP</th>\n",
              "      <th>EV/GP Percentile</th>\n",
              "      <th>PEG Ratio</th>\n",
              "      <th>DE</th>\n",
              "      <th>RV Score</th>\n",
              "    </tr>\n",
              "  </thead>\n",
              "  <tbody>\n",
              "  </tbody>\n",
              "</table>\n",
              "</div>"
            ],
            "text/plain": [
              "Empty DataFrame\n",
              "Columns: [Symbol, Price, Number of Shares to Buy, PE Ratio, PE Percentile, PB Ratio, PB Percentile, PS Ratio, PS Percentile, EV/EBITDA, EV/EBITDA Percentile, EV/GP, EV/GP Percentile, PEG Ratio, DE, RV Score]\n",
              "Index: []"
            ]
          },
          "execution_count": 47,
          "metadata": {},
          "output_type": "execute_result"
        }
      ],
      "source": [
        "best_value_stocks = rv_dataframe.sort_values(by = 'RV Score', ascending = True)\n",
        "best_value_stocks = best_value_stocks[:50]\n",
        "best_value_stocks.reset_index(drop = True, inplace = True )\n",
        "\n",
        "best_value_stocks"
      ]
    },
    {
      "cell_type": "markdown",
      "metadata": {
        "id": "U_d5OMM8jxS1"
      },
      "source": [
        "## Calculating the Number of Shares to Buy\n",
        "We'll use the `portfolio_input` function that we created earlier to accept our portfolio size. Then we will use similar logic in a for loop to calculate the number of shares to buy for each stock in our investment universe."
      ]
    },
    {
      "cell_type": "code",
      "execution_count": null,
      "metadata": {
        "colab": {
          "base_uri": "https://localhost:8080/"
        },
        "id": "DTLVGkkZjxS1",
        "outputId": "254bfab9-e123-4b4d-b98f-b911950f49d8"
      },
      "outputs": [],
      "source": [
        "portfolio_input()\n"
      ]
    },
    {
      "cell_type": "code",
      "execution_count": null,
      "metadata": {
        "colab": {
          "base_uri": "https://localhost:8080/",
          "height": 1000
        },
        "id": "XMoi1bgMjxS1",
        "outputId": "a586995d-2a7c-49db-a777-913baa0daf9a"
      },
      "outputs": [],
      "source": [
        "for row in best_value_stocks.index:\n",
        "    best_value_stocks.loc[row, 'Number of Shares to Buy'] = math.floor(float(portfolio_size)/best_value_stocks.loc[row, 'Price'])\n",
        "\n",
        "best_value_stocks"
      ]
    },
    {
      "cell_type": "markdown",
      "metadata": {
        "id": "Swp6Cme7jxS1"
      },
      "source": [
        "## Formatting Our Excel Output\n",
        "\n",
        "We will be using the XlsxWriter library for Python to create nicely-formatted Excel files.\n",
        "\n",
        "XlsxWriter is an excellent package and offers tons of customization. However, the tradeoff for this is that the library can seem very complicated to new users. Accordingly, this section will be fairly long because I want to do a good job of explaining how XlsxWriter works."
      ]
    },
    {
      "cell_type": "code",
      "execution_count": null,
      "metadata": {
        "id": "9cMNdkIajxS2"
      },
      "outputs": [],
      "source": []
    },
    {
      "cell_type": "markdown",
      "metadata": {
        "id": "sO_gACUHjxS2"
      },
      "source": [
        "## Creating the Formats We'll Need For Our .xlsx File\n",
        "You'll recall from our first project that formats include colors, fonts, and also symbols like % and $. We'll need four main formats for our Excel document:\n",
        "\n",
        "* String format for tickers\n",
        "* \\$XX.XX format for stock prices\n",
        "* \\$XX,XXX format for market capitalization\n",
        "* Integer format for the number of shares to purchase\n",
        "* Float formats with 1 decimal for each valuation metric\n",
        "\n",
        "Since we already built some formats in past sections of this course, I've included them below for you. Run this code cell before proceeding."
      ]
    },
    {
      "cell_type": "code",
      "execution_count": null,
      "metadata": {
        "id": "pC1H7aYCjxS2"
      },
      "outputs": [],
      "source": []
    },
    {
      "cell_type": "code",
      "execution_count": null,
      "metadata": {
        "id": "vjtd2-AVjxS2"
      },
      "outputs": [],
      "source": []
    },
    {
      "cell_type": "markdown",
      "metadata": {
        "id": "gUnwVRFyjxS2"
      },
      "source": [
        "## Saving Our Excel Output\n",
        "As before, saving our Excel output is very easy:"
      ]
    },
    {
      "cell_type": "code",
      "execution_count": null,
      "metadata": {
        "id": "hp4l9WdwjxS3"
      },
      "outputs": [],
      "source": []
    }
  ],
  "metadata": {
    "colab": {
      "collapsed_sections": [],
      "name": "Copy of 003_quantitative_value_strategy.ipynb",
      "provenance": []
    },
    "kernelspec": {
      "display_name": "Python 3",
      "language": "python",
      "name": "python3"
    },
    "language_info": {
      "codemirror_mode": {
        "name": "ipython",
        "version": 3
      },
      "file_extension": ".py",
      "mimetype": "text/x-python",
      "name": "python",
      "nbconvert_exporter": "python",
      "pygments_lexer": "ipython3",
      "version": "3.9.9"
    }
  },
  "nbformat": 4,
  "nbformat_minor": 0
}
